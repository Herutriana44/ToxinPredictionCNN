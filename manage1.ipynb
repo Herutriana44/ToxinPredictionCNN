{
 "cells": [
  {
   "cell_type": "code",
   "execution_count": 1,
   "metadata": {},
   "outputs": [],
   "source": [
    "def read_sequence(file_path):\n",
    "    sequences = []\n",
    "    with open(file_path, 'r') as file:\n",
    "        for line in file:\n",
    "            sequence = line.strip()\n",
    "            sequences.append(sequence)\n",
    "    return sequences"
   ]
  },
  {
   "cell_type": "code",
   "execution_count": 2,
   "metadata": {},
   "outputs": [],
   "source": [
    "import pandas as pd"
   ]
  },
  {
   "cell_type": "code",
   "execution_count": 3,
   "metadata": {},
   "outputs": [],
   "source": [
    "file1_sequences = read_sequence('neg-maindataset-1.txt')\n",
    "file2_sequences = read_sequence('pos-maindataset-1.txt')"
   ]
  },
  {
   "cell_type": "code",
   "execution_count": 4,
   "metadata": {},
   "outputs": [],
   "source": [
    "neg = [sequence for sequence in file1_sequences]\n",
    "pos = [sequence for sequence in file2_sequences]"
   ]
  },
  {
   "cell_type": "code",
   "execution_count": 5,
   "metadata": {},
   "outputs": [],
   "source": [
    "df_pos = pd.DataFrame()\n",
    "df_neg = pd.DataFrame()\n",
    "df_neg['seq'] = neg\n",
    "df_neg['label'] = 'non-toxin'\n",
    "df_pos['seq'] = pos\n",
    "df_pos['label'] = 'positive'"
   ]
  },
  {
   "cell_type": "code",
   "execution_count": 6,
   "metadata": {},
   "outputs": [],
   "source": [
    "df = pd.concat([df_pos, df_neg])"
   ]
  },
  {
   "cell_type": "code",
   "execution_count": 7,
   "metadata": {},
   "outputs": [
    {
     "data": {
      "text/html": [
       "<div>\n",
       "<style scoped>\n",
       "    .dataframe tbody tr th:only-of-type {\n",
       "        vertical-align: middle;\n",
       "    }\n",
       "\n",
       "    .dataframe tbody tr th {\n",
       "        vertical-align: top;\n",
       "    }\n",
       "\n",
       "    .dataframe thead th {\n",
       "        text-align: right;\n",
       "    }\n",
       "</style>\n",
       "<table border=\"1\" class=\"dataframe\">\n",
       "  <thead>\n",
       "    <tr style=\"text-align: right;\">\n",
       "      <th></th>\n",
       "      <th>seq</th>\n",
       "      <th>label</th>\n",
       "    </tr>\n",
       "  </thead>\n",
       "  <tbody>\n",
       "    <tr>\n",
       "      <th>0</th>\n",
       "      <td>AAAEECEEYCEEEEKTCCGEEDGEPVCAEFCL</td>\n",
       "      <td>positive</td>\n",
       "    </tr>\n",
       "    <tr>\n",
       "      <th>1</th>\n",
       "      <td>AACLGMFESCDPNNDKCCPNRECNRKHKWCKYKLW</td>\n",
       "      <td>positive</td>\n",
       "    </tr>\n",
       "    <tr>\n",
       "      <th>2</th>\n",
       "      <td>AACYSSDCRVKCVAMGFSSGKCINSKCKCYK</td>\n",
       "      <td>positive</td>\n",
       "    </tr>\n",
       "    <tr>\n",
       "      <th>3</th>\n",
       "      <td>AADGKPSDWISLVTPECCSNPPCNLQNC</td>\n",
       "      <td>positive</td>\n",
       "    </tr>\n",
       "    <tr>\n",
       "      <th>4</th>\n",
       "      <td>AADGKPSDWISLVTPECCSNPPCNLQNCR</td>\n",
       "      <td>positive</td>\n",
       "    </tr>\n",
       "    <tr>\n",
       "      <th>...</th>\n",
       "      <td>...</td>\n",
       "      <td>...</td>\n",
       "    </tr>\n",
       "    <tr>\n",
       "      <th>3588</th>\n",
       "      <td>YTATRDNCCILDERFGSYCPTTCG</td>\n",
       "      <td>non-toxin</td>\n",
       "    </tr>\n",
       "    <tr>\n",
       "      <th>3589</th>\n",
       "      <td>YVMGHFRWDKF</td>\n",
       "      <td>non-toxin</td>\n",
       "    </tr>\n",
       "    <tr>\n",
       "      <th>3590</th>\n",
       "      <td>YYEEYVDGQGMVVR</td>\n",
       "      <td>non-toxin</td>\n",
       "    </tr>\n",
       "    <tr>\n",
       "      <th>3591</th>\n",
       "      <td>YYTVLFGVSRALGLPLERPK</td>\n",
       "      <td>non-toxin</td>\n",
       "    </tr>\n",
       "    <tr>\n",
       "      <th>3592</th>\n",
       "      <td>YYVDLQNR</td>\n",
       "      <td>non-toxin</td>\n",
       "    </tr>\n",
       "  </tbody>\n",
       "</table>\n",
       "<p>5398 rows × 2 columns</p>\n",
       "</div>"
      ],
      "text/plain": [
       "                                      seq      label\n",
       "0        AAAEECEEYCEEEEKTCCGEEDGEPVCAEFCL   positive\n",
       "1     AACLGMFESCDPNNDKCCPNRECNRKHKWCKYKLW   positive\n",
       "2         AACYSSDCRVKCVAMGFSSGKCINSKCKCYK   positive\n",
       "3            AADGKPSDWISLVTPECCSNPPCNLQNC   positive\n",
       "4           AADGKPSDWISLVTPECCSNPPCNLQNCR   positive\n",
       "...                                   ...        ...\n",
       "3588             YTATRDNCCILDERFGSYCPTTCG  non-toxin\n",
       "3589                          YVMGHFRWDKF  non-toxin\n",
       "3590                       YYEEYVDGQGMVVR  non-toxin\n",
       "3591                 YYTVLFGVSRALGLPLERPK  non-toxin\n",
       "3592                             YYVDLQNR  non-toxin\n",
       "\n",
       "[5398 rows x 2 columns]"
      ]
     },
     "execution_count": 7,
     "metadata": {},
     "output_type": "execute_result"
    }
   ],
   "source": [
    "df"
   ]
  },
  {
   "cell_type": "code",
   "execution_count": 8,
   "metadata": {},
   "outputs": [],
   "source": [
    "df.to_csv('toxin_dataset.csv', index=False)"
   ]
  },
  {
   "cell_type": "code",
   "execution_count": null,
   "metadata": {},
   "outputs": [],
   "source": []
  }
 ],
 "metadata": {
  "kernelspec": {
   "display_name": "Python 3",
   "language": "python",
   "name": "python3"
  },
  "language_info": {
   "codemirror_mode": {
    "name": "ipython",
    "version": 3
   },
   "file_extension": ".py",
   "mimetype": "text/x-python",
   "name": "python",
   "nbconvert_exporter": "python",
   "pygments_lexer": "ipython3",
   "version": "3.11.4"
  },
  "orig_nbformat": 4
 },
 "nbformat": 4,
 "nbformat_minor": 2
}
