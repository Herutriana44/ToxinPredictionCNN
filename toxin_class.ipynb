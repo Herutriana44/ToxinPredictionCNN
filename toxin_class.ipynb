{
 "cells": [
  {
   "cell_type": "code",
   "execution_count": 1,
   "metadata": {},
   "outputs": [],
   "source": [
    "import pandas as pd\n",
    "import numpy as np\n",
    "from sklearn.model_selection import train_test_split\n",
    "from tensorflow.keras.models import Sequential\n",
    "from tensorflow.keras.layers import Conv1D, MaxPooling1D, Flatten, Dense"
   ]
  },
  {
   "cell_type": "code",
   "execution_count": 2,
   "metadata": {},
   "outputs": [],
   "source": [
    "# Membaca file CSV\n",
    "data = pd.read_csv('toxin_dataset.csv')\n",
    "\n",
    "# Memisahkan fitur (sequence) dan label\n",
    "sequences = data['seq']\n",
    "labels = data['label']\n",
    "\n",
    "seq_length = max(len(seq) for seq in sequences)\n",
    "\n",
    "# Mengubah label menjadi angka\n",
    "label_mapping = {label: index for index, label in enumerate(labels.unique())}\n",
    "labels = labels.map(label_mapping)\n",
    "\n",
    "# Membagi data menjadi data latih dan data uji\n",
    "sequences_train, sequences_test, labels_train, labels_test = train_test_split(sequences, labels, test_size=0.2, random_state=42)\n"
   ]
  },
  {
   "cell_type": "code",
   "execution_count": 3,
   "metadata": {},
   "outputs": [],
   "source": [
    "alphabet = 'ACDEFGHIKLMNPQRSTVWY'  # Hanya huruf-huruf asam amino yang relevan\n",
    "num_features = len(alphabet)"
   ]
  },
  {
   "cell_type": "code",
   "execution_count": 4,
   "metadata": {},
   "outputs": [],
   "source": [
    "def one_hot_encoding(sequence):\n",
    "    encoding = []\n",
    "    for char in sequence:\n",
    "        vector = [0] * num_features\n",
    "        if char in alphabet:\n",
    "            index = alphabet.index(char)\n",
    "            vector[index] = 1\n",
    "        encoding.append(vector)\n",
    "    return encoding"
   ]
  },
  {
   "cell_type": "code",
   "execution_count": 5,
   "metadata": {},
   "outputs": [],
   "source": [
    "sequences_train = [one_hot_encoding(seq) for seq in sequences_train]\n",
    "sequences_test = [one_hot_encoding(seq) for seq in sequences_test]"
   ]
  },
  {
   "cell_type": "code",
   "execution_count": 6,
   "metadata": {},
   "outputs": [],
   "source": [
    "sequences_train = [seq + [[0] * num_features] * (seq_length - len(seq)) for seq in sequences_train]\n",
    "sequences_test = [seq + [[0] * num_features] * (seq_length - len(seq)) for seq in sequences_test]"
   ]
  },
  {
   "cell_type": "code",
   "execution_count": 7,
   "metadata": {},
   "outputs": [],
   "source": [
    "# Konversi ke array numpy\n",
    "sequences_train = np.array(sequences_train)\n",
    "sequences_test = np.array(sequences_test)"
   ]
  },
  {
   "cell_type": "code",
   "execution_count": 8,
   "metadata": {},
   "outputs": [],
   "source": [
    "# Membangun model CNN\n",
    "model = Sequential()\n",
    "model.add(Conv1D(32, kernel_size=3, activation='relu', input_shape=(seq_length, num_features)))\n",
    "model.add(MaxPooling1D(pool_size=2))\n",
    "model.add(Flatten())\n",
    "model.add(Dense(128, activation='relu'))\n",
    "model.add(Dense(1, activation='sigmoid'))"
   ]
  },
  {
   "cell_type": "code",
   "execution_count": 9,
   "metadata": {},
   "outputs": [],
   "source": [
    "model.compile(optimizer='adam', loss='binary_crossentropy', metrics=['accuracy'])"
   ]
  },
  {
   "cell_type": "code",
   "execution_count": 10,
   "metadata": {},
   "outputs": [
    {
     "name": "stdout",
     "output_type": "stream",
     "text": [
      "Epoch 1/10\n",
      "68/68 [==============================] - 2s 11ms/step - loss: 0.3849 - accuracy: 0.8330 - val_loss: 0.2326 - val_accuracy: 0.9185\n",
      "Epoch 2/10\n",
      "68/68 [==============================] - 0s 6ms/step - loss: 0.2115 - accuracy: 0.9282 - val_loss: 0.2172 - val_accuracy: 0.9278\n",
      "Epoch 3/10\n",
      "68/68 [==============================] - 0s 7ms/step - loss: 0.1776 - accuracy: 0.9391 - val_loss: 0.1914 - val_accuracy: 0.9315\n",
      "Epoch 4/10\n",
      "68/68 [==============================] - 0s 7ms/step - loss: 0.1535 - accuracy: 0.9449 - val_loss: 0.1801 - val_accuracy: 0.9426\n",
      "Epoch 5/10\n",
      "68/68 [==============================] - 0s 6ms/step - loss: 0.1291 - accuracy: 0.9562 - val_loss: 0.1954 - val_accuracy: 0.9352\n",
      "Epoch 6/10\n",
      "68/68 [==============================] - 0s 7ms/step - loss: 0.1118 - accuracy: 0.9629 - val_loss: 0.2129 - val_accuracy: 0.9306\n",
      "Epoch 7/10\n",
      "68/68 [==============================] - 0s 6ms/step - loss: 0.1020 - accuracy: 0.9660 - val_loss: 0.2006 - val_accuracy: 0.9352\n",
      "Epoch 8/10\n",
      "68/68 [==============================] - 0s 7ms/step - loss: 0.0962 - accuracy: 0.9694 - val_loss: 0.1838 - val_accuracy: 0.9370\n",
      "Epoch 9/10\n",
      "68/68 [==============================] - 1s 8ms/step - loss: 0.0797 - accuracy: 0.9759 - val_loss: 0.1883 - val_accuracy: 0.9398\n",
      "Epoch 10/10\n",
      "68/68 [==============================] - 0s 7ms/step - loss: 0.0737 - accuracy: 0.9782 - val_loss: 0.1868 - val_accuracy: 0.9389\n"
     ]
    },
    {
     "data": {
      "text/plain": [
       "<keras.callbacks.History at 0x23c100211d0>"
      ]
     },
     "execution_count": 10,
     "metadata": {},
     "output_type": "execute_result"
    }
   ],
   "source": [
    "model.fit(sequences_train, labels_train, epochs=10, batch_size=64, validation_data=(sequences_test, labels_test))"
   ]
  },
  {
   "cell_type": "code",
   "execution_count": 11,
   "metadata": {},
   "outputs": [
    {
     "name": "stdout",
     "output_type": "stream",
     "text": [
      "34/34 [==============================] - 0s 3ms/step - loss: 0.1868 - accuracy: 0.9389\n",
      "Accuracy: 0.9388889074325562\n",
      "Model telah disimpan ke file model.h5\n"
     ]
    }
   ],
   "source": [
    "# Evaluasi model\n",
    "_, accuracy = model.evaluate(sequences_test, labels_test)\n",
    "print('Accuracy:', accuracy)\n",
    "\n",
    "# Simpan model ke file .h5\n",
    "model.save('toxin.h5')\n",
    "print(\"Model telah disimpan ke file model.h5\")"
   ]
  },
  {
   "cell_type": "code",
   "execution_count": 12,
   "metadata": {},
   "outputs": [
    {
     "ename": "AttributeError",
     "evalue": "'Sequential' object has no attribute 'predict_classes'",
     "output_type": "error",
     "traceback": [
      "\u001b[1;31m---------------------------------------------------------------------------\u001b[0m",
      "\u001b[1;31mAttributeError\u001b[0m                            Traceback (most recent call last)",
      "Cell \u001b[1;32mIn[12], line 4\u001b[0m\n\u001b[0;32m      2\u001b[0m label_mapping_reverse \u001b[39m=\u001b[39m {v: k \u001b[39mfor\u001b[39;00m k, v \u001b[39min\u001b[39;00m label_mapping\u001b[39m.\u001b[39mitems()}\n\u001b[0;32m      3\u001b[0m labels_train_original \u001b[39m=\u001b[39m labels_train\u001b[39m.\u001b[39mmap(label_mapping_reverse)\n\u001b[1;32m----> 4\u001b[0m labels_train_predicted \u001b[39m=\u001b[39m model\u001b[39m.\u001b[39;49mpredict_classes(sequences_train)\u001b[39m.\u001b[39mflatten()\n\u001b[0;32m      5\u001b[0m labels_train_predicted_original \u001b[39m=\u001b[39m [label_mapping_reverse[label] \u001b[39mfor\u001b[39;00m label \u001b[39min\u001b[39;00m labels_train_predicted]\n\u001b[0;32m      7\u001b[0m \u001b[39mfor\u001b[39;00m original, predicted \u001b[39min\u001b[39;00m \u001b[39mzip\u001b[39m(labels_train_original, labels_train_predicted_original):\n",
      "\u001b[1;31mAttributeError\u001b[0m: 'Sequential' object has no attribute 'predict_classes'"
     ]
    }
   ],
   "source": [
    "# Tampilkan hasil perubahan label\n",
    "label_mapping_reverse = {v: k for k, v in label_mapping.items()}\n",
    "labels_train_original = labels_train.map(label_mapping_reverse)\n",
    "labels_train_predicted = model.predict_classes(sequences_train).flatten()\n",
    "labels_train_predicted_original = [label_mapping_reverse[label] for label in labels_train_predicted]\n",
    "\n",
    "for original, predicted in zip(labels_train_original, labels_train_predicted_original):\n",
    "    print(f'Original: {original}, Predicted: {predicted}')"
   ]
  }
 ],
 "metadata": {
  "kernelspec": {
   "display_name": "Python 3",
   "language": "python",
   "name": "python3"
  },
  "language_info": {
   "codemirror_mode": {
    "name": "ipython",
    "version": 3
   },
   "file_extension": ".py",
   "mimetype": "text/x-python",
   "name": "python",
   "nbconvert_exporter": "python",
   "pygments_lexer": "ipython3",
   "version": "3.11.4"
  },
  "orig_nbformat": 4
 },
 "nbformat": 4,
 "nbformat_minor": 2
}
